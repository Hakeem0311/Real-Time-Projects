{
 "cells": [
  {
   "cell_type": "markdown",
   "id": "1cc04068",
   "metadata": {},
   "source": [
    "# Disease Prediction using Machine Learning"
   ]
  },
  {
   "cell_type": "markdown",
   "id": "bd38f513",
   "metadata": {},
   "source": [
    "In this data-driven journey, I will venture into the realm of disease prediction using machine learning, guided by our expert data scientist. Our dataset contains vital information regarding the diagnosis of heart disease patients. Through the power of machine learning, we aim to predict whether an individual is susceptible to heart disease, leveraging features such as chest pain type, age, sex, and more."
   ]
  },
  {
   "cell_type": "markdown",
   "id": "27a56043",
   "metadata": {},
   "source": [
    "Heart disease stands as a prominent cause of morbidity and mortality on a global scale. Predicting cardiovascular disease is a crucial area within clinical data analysis, considering its profound impact on public health. The healthcare industry harbors a vast reservoir of data, and the process of data mining transforms this extensive healthcare repository into actionable insights, facilitating informed decision-making and predictions."
   ]
  },
  {
   "cell_type": "markdown",
   "id": "a357bf92",
   "metadata": {},
   "source": [
    "My journey unfolds by training machine learning models capable of discerning the presence or absence of heart disease based on a comprehensive set of attributes. To achieve this, we draw upon the Cleveland Heart Disease dataset, sourced from the UCI repository. As we traverse this path, each line of code and model developed brings us closer to unraveling the secrets of disease prediction."
   ]
  },
  {
   "cell_type": "markdown",
   "id": "3e1b3647",
   "metadata": {},
   "source": [
    "My ultimate goal is to empower healthcare professionals and individuals with data-driven insights, enhancing their ability to make early and accurate predictions regarding heart disease. Through the utilization of machine learning, we aim to contribute to the vital task of improving public health and the well-being of individuals across the world."
   ]
  },
  {
   "cell_type": "markdown",
   "id": "2ce5c68f",
   "metadata": {},
   "source": [
    "## Importing Health Data"
   ]
  },
  {
   "cell_type": "code",
   "execution_count": 1,
   "id": "332409f0",
   "metadata": {
    "ExecuteTime": {
     "end_time": "2024-02-27T05:31:29.273840Z",
     "start_time": "2024-02-27T05:31:27.516452Z"
    }
   },
   "outputs": [
    {
     "data": {
      "text/html": [
       "<div>\n",
       "<style scoped>\n",
       "    .dataframe tbody tr th:only-of-type {\n",
       "        vertical-align: middle;\n",
       "    }\n",
       "\n",
       "    .dataframe tbody tr th {\n",
       "        vertical-align: top;\n",
       "    }\n",
       "\n",
       "    .dataframe thead th {\n",
       "        text-align: right;\n",
       "    }\n",
       "</style>\n",
       "<table border=\"1\" class=\"dataframe\">\n",
       "  <thead>\n",
       "    <tr style=\"text-align: right;\">\n",
       "      <th></th>\n",
       "      <th>age</th>\n",
       "      <th>sex</th>\n",
       "      <th>cp</th>\n",
       "      <th>trestbps</th>\n",
       "      <th>chol</th>\n",
       "      <th>fbs</th>\n",
       "      <th>restecg</th>\n",
       "      <th>thalach</th>\n",
       "      <th>exang</th>\n",
       "      <th>oldpeak</th>\n",
       "      <th>slope</th>\n",
       "      <th>ca</th>\n",
       "      <th>thal</th>\n",
       "      <th>condition</th>\n",
       "    </tr>\n",
       "  </thead>\n",
       "  <tbody>\n",
       "    <tr>\n",
       "      <th>0</th>\n",
       "      <td>69</td>\n",
       "      <td>1</td>\n",
       "      <td>0</td>\n",
       "      <td>160</td>\n",
       "      <td>234</td>\n",
       "      <td>1</td>\n",
       "      <td>2</td>\n",
       "      <td>131</td>\n",
       "      <td>0</td>\n",
       "      <td>0.1</td>\n",
       "      <td>1</td>\n",
       "      <td>1</td>\n",
       "      <td>0</td>\n",
       "      <td>0</td>\n",
       "    </tr>\n",
       "    <tr>\n",
       "      <th>1</th>\n",
       "      <td>69</td>\n",
       "      <td>0</td>\n",
       "      <td>0</td>\n",
       "      <td>140</td>\n",
       "      <td>239</td>\n",
       "      <td>0</td>\n",
       "      <td>0</td>\n",
       "      <td>151</td>\n",
       "      <td>0</td>\n",
       "      <td>1.8</td>\n",
       "      <td>0</td>\n",
       "      <td>2</td>\n",
       "      <td>0</td>\n",
       "      <td>0</td>\n",
       "    </tr>\n",
       "    <tr>\n",
       "      <th>2</th>\n",
       "      <td>66</td>\n",
       "      <td>0</td>\n",
       "      <td>0</td>\n",
       "      <td>150</td>\n",
       "      <td>226</td>\n",
       "      <td>0</td>\n",
       "      <td>0</td>\n",
       "      <td>114</td>\n",
       "      <td>0</td>\n",
       "      <td>2.6</td>\n",
       "      <td>2</td>\n",
       "      <td>0</td>\n",
       "      <td>0</td>\n",
       "      <td>0</td>\n",
       "    </tr>\n",
       "    <tr>\n",
       "      <th>3</th>\n",
       "      <td>65</td>\n",
       "      <td>1</td>\n",
       "      <td>0</td>\n",
       "      <td>138</td>\n",
       "      <td>282</td>\n",
       "      <td>1</td>\n",
       "      <td>2</td>\n",
       "      <td>174</td>\n",
       "      <td>0</td>\n",
       "      <td>1.4</td>\n",
       "      <td>1</td>\n",
       "      <td>1</td>\n",
       "      <td>0</td>\n",
       "      <td>1</td>\n",
       "    </tr>\n",
       "    <tr>\n",
       "      <th>4</th>\n",
       "      <td>64</td>\n",
       "      <td>1</td>\n",
       "      <td>0</td>\n",
       "      <td>110</td>\n",
       "      <td>211</td>\n",
       "      <td>0</td>\n",
       "      <td>2</td>\n",
       "      <td>144</td>\n",
       "      <td>1</td>\n",
       "      <td>1.8</td>\n",
       "      <td>1</td>\n",
       "      <td>0</td>\n",
       "      <td>0</td>\n",
       "      <td>0</td>\n",
       "    </tr>\n",
       "    <tr>\n",
       "      <th>...</th>\n",
       "      <td>...</td>\n",
       "      <td>...</td>\n",
       "      <td>...</td>\n",
       "      <td>...</td>\n",
       "      <td>...</td>\n",
       "      <td>...</td>\n",
       "      <td>...</td>\n",
       "      <td>...</td>\n",
       "      <td>...</td>\n",
       "      <td>...</td>\n",
       "      <td>...</td>\n",
       "      <td>...</td>\n",
       "      <td>...</td>\n",
       "      <td>...</td>\n",
       "    </tr>\n",
       "    <tr>\n",
       "      <th>292</th>\n",
       "      <td>40</td>\n",
       "      <td>1</td>\n",
       "      <td>3</td>\n",
       "      <td>152</td>\n",
       "      <td>223</td>\n",
       "      <td>0</td>\n",
       "      <td>0</td>\n",
       "      <td>181</td>\n",
       "      <td>0</td>\n",
       "      <td>0.0</td>\n",
       "      <td>0</td>\n",
       "      <td>0</td>\n",
       "      <td>2</td>\n",
       "      <td>1</td>\n",
       "    </tr>\n",
       "    <tr>\n",
       "      <th>293</th>\n",
       "      <td>39</td>\n",
       "      <td>1</td>\n",
       "      <td>3</td>\n",
       "      <td>118</td>\n",
       "      <td>219</td>\n",
       "      <td>0</td>\n",
       "      <td>0</td>\n",
       "      <td>140</td>\n",
       "      <td>0</td>\n",
       "      <td>1.2</td>\n",
       "      <td>1</td>\n",
       "      <td>0</td>\n",
       "      <td>2</td>\n",
       "      <td>1</td>\n",
       "    </tr>\n",
       "    <tr>\n",
       "      <th>294</th>\n",
       "      <td>35</td>\n",
       "      <td>1</td>\n",
       "      <td>3</td>\n",
       "      <td>120</td>\n",
       "      <td>198</td>\n",
       "      <td>0</td>\n",
       "      <td>0</td>\n",
       "      <td>130</td>\n",
       "      <td>1</td>\n",
       "      <td>1.6</td>\n",
       "      <td>1</td>\n",
       "      <td>0</td>\n",
       "      <td>2</td>\n",
       "      <td>1</td>\n",
       "    </tr>\n",
       "    <tr>\n",
       "      <th>295</th>\n",
       "      <td>35</td>\n",
       "      <td>0</td>\n",
       "      <td>3</td>\n",
       "      <td>138</td>\n",
       "      <td>183</td>\n",
       "      <td>0</td>\n",
       "      <td>0</td>\n",
       "      <td>182</td>\n",
       "      <td>0</td>\n",
       "      <td>1.4</td>\n",
       "      <td>0</td>\n",
       "      <td>0</td>\n",
       "      <td>0</td>\n",
       "      <td>0</td>\n",
       "    </tr>\n",
       "    <tr>\n",
       "      <th>296</th>\n",
       "      <td>35</td>\n",
       "      <td>1</td>\n",
       "      <td>3</td>\n",
       "      <td>126</td>\n",
       "      <td>282</td>\n",
       "      <td>0</td>\n",
       "      <td>2</td>\n",
       "      <td>156</td>\n",
       "      <td>1</td>\n",
       "      <td>0.0</td>\n",
       "      <td>0</td>\n",
       "      <td>0</td>\n",
       "      <td>2</td>\n",
       "      <td>1</td>\n",
       "    </tr>\n",
       "  </tbody>\n",
       "</table>\n",
       "<p>297 rows × 14 columns</p>\n",
       "</div>"
      ],
      "text/plain": [
       "     age  sex  cp  trestbps  chol  fbs  restecg  thalach  exang  oldpeak  \\\n",
       "0     69    1   0       160   234    1        2      131      0      0.1   \n",
       "1     69    0   0       140   239    0        0      151      0      1.8   \n",
       "2     66    0   0       150   226    0        0      114      0      2.6   \n",
       "3     65    1   0       138   282    1        2      174      0      1.4   \n",
       "4     64    1   0       110   211    0        2      144      1      1.8   \n",
       "..   ...  ...  ..       ...   ...  ...      ...      ...    ...      ...   \n",
       "292   40    1   3       152   223    0        0      181      0      0.0   \n",
       "293   39    1   3       118   219    0        0      140      0      1.2   \n",
       "294   35    1   3       120   198    0        0      130      1      1.6   \n",
       "295   35    0   3       138   183    0        0      182      0      1.4   \n",
       "296   35    1   3       126   282    0        2      156      1      0.0   \n",
       "\n",
       "     slope  ca  thal  condition  \n",
       "0        1   1     0          0  \n",
       "1        0   2     0          0  \n",
       "2        2   0     0          0  \n",
       "3        1   1     0          1  \n",
       "4        1   0     0          0  \n",
       "..     ...  ..   ...        ...  \n",
       "292      0   0     2          1  \n",
       "293      1   0     2          1  \n",
       "294      1   0     2          1  \n",
       "295      0   0     0          0  \n",
       "296      0   0     2          1  \n",
       "\n",
       "[297 rows x 14 columns]"
      ]
     },
     "execution_count": 1,
     "metadata": {},
     "output_type": "execute_result"
    }
   ],
   "source": [
    "import pandas as pd\n",
    "\n",
    "df = pd.read_csv('heart_cleveland_upload.csv')\n",
    "df"
   ]
  },
  {
   "cell_type": "code",
   "execution_count": 2,
   "id": "0ec2cbae",
   "metadata": {
    "ExecuteTime": {
     "end_time": "2024-02-27T05:31:29.367347Z",
     "start_time": "2024-02-27T05:31:29.289329Z"
    }
   },
   "outputs": [
    {
     "data": {
      "text/html": [
       "<div>\n",
       "<style scoped>\n",
       "    .dataframe tbody tr th:only-of-type {\n",
       "        vertical-align: middle;\n",
       "    }\n",
       "\n",
       "    .dataframe tbody tr th {\n",
       "        vertical-align: top;\n",
       "    }\n",
       "\n",
       "    .dataframe thead th {\n",
       "        text-align: right;\n",
       "    }\n",
       "</style>\n",
       "<table border=\"1\" class=\"dataframe\">\n",
       "  <thead>\n",
       "    <tr style=\"text-align: right;\">\n",
       "      <th></th>\n",
       "      <th>age</th>\n",
       "      <th>sex</th>\n",
       "      <th>cp</th>\n",
       "      <th>trestbps</th>\n",
       "      <th>chol</th>\n",
       "      <th>fbs</th>\n",
       "      <th>restecg</th>\n",
       "      <th>thalach</th>\n",
       "      <th>exang</th>\n",
       "      <th>oldpeak</th>\n",
       "      <th>slope</th>\n",
       "      <th>ca</th>\n",
       "      <th>thal</th>\n",
       "      <th>condition</th>\n",
       "    </tr>\n",
       "  </thead>\n",
       "  <tbody>\n",
       "    <tr>\n",
       "      <th>0</th>\n",
       "      <td>69</td>\n",
       "      <td>1</td>\n",
       "      <td>0</td>\n",
       "      <td>160</td>\n",
       "      <td>234</td>\n",
       "      <td>1</td>\n",
       "      <td>2</td>\n",
       "      <td>131</td>\n",
       "      <td>0</td>\n",
       "      <td>0.1</td>\n",
       "      <td>1</td>\n",
       "      <td>1</td>\n",
       "      <td>0</td>\n",
       "      <td>0</td>\n",
       "    </tr>\n",
       "    <tr>\n",
       "      <th>1</th>\n",
       "      <td>69</td>\n",
       "      <td>0</td>\n",
       "      <td>0</td>\n",
       "      <td>140</td>\n",
       "      <td>239</td>\n",
       "      <td>0</td>\n",
       "      <td>0</td>\n",
       "      <td>151</td>\n",
       "      <td>0</td>\n",
       "      <td>1.8</td>\n",
       "      <td>0</td>\n",
       "      <td>2</td>\n",
       "      <td>0</td>\n",
       "      <td>0</td>\n",
       "    </tr>\n",
       "    <tr>\n",
       "      <th>2</th>\n",
       "      <td>66</td>\n",
       "      <td>0</td>\n",
       "      <td>0</td>\n",
       "      <td>150</td>\n",
       "      <td>226</td>\n",
       "      <td>0</td>\n",
       "      <td>0</td>\n",
       "      <td>114</td>\n",
       "      <td>0</td>\n",
       "      <td>2.6</td>\n",
       "      <td>2</td>\n",
       "      <td>0</td>\n",
       "      <td>0</td>\n",
       "      <td>0</td>\n",
       "    </tr>\n",
       "    <tr>\n",
       "      <th>3</th>\n",
       "      <td>65</td>\n",
       "      <td>1</td>\n",
       "      <td>0</td>\n",
       "      <td>138</td>\n",
       "      <td>282</td>\n",
       "      <td>1</td>\n",
       "      <td>2</td>\n",
       "      <td>174</td>\n",
       "      <td>0</td>\n",
       "      <td>1.4</td>\n",
       "      <td>1</td>\n",
       "      <td>1</td>\n",
       "      <td>0</td>\n",
       "      <td>1</td>\n",
       "    </tr>\n",
       "    <tr>\n",
       "      <th>4</th>\n",
       "      <td>64</td>\n",
       "      <td>1</td>\n",
       "      <td>0</td>\n",
       "      <td>110</td>\n",
       "      <td>211</td>\n",
       "      <td>0</td>\n",
       "      <td>2</td>\n",
       "      <td>144</td>\n",
       "      <td>1</td>\n",
       "      <td>1.8</td>\n",
       "      <td>1</td>\n",
       "      <td>0</td>\n",
       "      <td>0</td>\n",
       "      <td>0</td>\n",
       "    </tr>\n",
       "    <tr>\n",
       "      <th>5</th>\n",
       "      <td>64</td>\n",
       "      <td>1</td>\n",
       "      <td>0</td>\n",
       "      <td>170</td>\n",
       "      <td>227</td>\n",
       "      <td>0</td>\n",
       "      <td>2</td>\n",
       "      <td>155</td>\n",
       "      <td>0</td>\n",
       "      <td>0.6</td>\n",
       "      <td>1</td>\n",
       "      <td>0</td>\n",
       "      <td>2</td>\n",
       "      <td>0</td>\n",
       "    </tr>\n",
       "    <tr>\n",
       "      <th>6</th>\n",
       "      <td>63</td>\n",
       "      <td>1</td>\n",
       "      <td>0</td>\n",
       "      <td>145</td>\n",
       "      <td>233</td>\n",
       "      <td>1</td>\n",
       "      <td>2</td>\n",
       "      <td>150</td>\n",
       "      <td>0</td>\n",
       "      <td>2.3</td>\n",
       "      <td>2</td>\n",
       "      <td>0</td>\n",
       "      <td>1</td>\n",
       "      <td>0</td>\n",
       "    </tr>\n",
       "    <tr>\n",
       "      <th>7</th>\n",
       "      <td>61</td>\n",
       "      <td>1</td>\n",
       "      <td>0</td>\n",
       "      <td>134</td>\n",
       "      <td>234</td>\n",
       "      <td>0</td>\n",
       "      <td>0</td>\n",
       "      <td>145</td>\n",
       "      <td>0</td>\n",
       "      <td>2.6</td>\n",
       "      <td>1</td>\n",
       "      <td>2</td>\n",
       "      <td>0</td>\n",
       "      <td>1</td>\n",
       "    </tr>\n",
       "    <tr>\n",
       "      <th>8</th>\n",
       "      <td>60</td>\n",
       "      <td>0</td>\n",
       "      <td>0</td>\n",
       "      <td>150</td>\n",
       "      <td>240</td>\n",
       "      <td>0</td>\n",
       "      <td>0</td>\n",
       "      <td>171</td>\n",
       "      <td>0</td>\n",
       "      <td>0.9</td>\n",
       "      <td>0</td>\n",
       "      <td>0</td>\n",
       "      <td>0</td>\n",
       "      <td>0</td>\n",
       "    </tr>\n",
       "    <tr>\n",
       "      <th>9</th>\n",
       "      <td>59</td>\n",
       "      <td>1</td>\n",
       "      <td>0</td>\n",
       "      <td>178</td>\n",
       "      <td>270</td>\n",
       "      <td>0</td>\n",
       "      <td>2</td>\n",
       "      <td>145</td>\n",
       "      <td>0</td>\n",
       "      <td>4.2</td>\n",
       "      <td>2</td>\n",
       "      <td>0</td>\n",
       "      <td>2</td>\n",
       "      <td>0</td>\n",
       "    </tr>\n",
       "  </tbody>\n",
       "</table>\n",
       "</div>"
      ],
      "text/plain": [
       "   age  sex  cp  trestbps  chol  fbs  restecg  thalach  exang  oldpeak  slope  \\\n",
       "0   69    1   0       160   234    1        2      131      0      0.1      1   \n",
       "1   69    0   0       140   239    0        0      151      0      1.8      0   \n",
       "2   66    0   0       150   226    0        0      114      0      2.6      2   \n",
       "3   65    1   0       138   282    1        2      174      0      1.4      1   \n",
       "4   64    1   0       110   211    0        2      144      1      1.8      1   \n",
       "5   64    1   0       170   227    0        2      155      0      0.6      1   \n",
       "6   63    1   0       145   233    1        2      150      0      2.3      2   \n",
       "7   61    1   0       134   234    0        0      145      0      2.6      1   \n",
       "8   60    0   0       150   240    0        0      171      0      0.9      0   \n",
       "9   59    1   0       178   270    0        2      145      0      4.2      2   \n",
       "\n",
       "   ca  thal  condition  \n",
       "0   1     0          0  \n",
       "1   2     0          0  \n",
       "2   0     0          0  \n",
       "3   1     0          1  \n",
       "4   0     0          0  \n",
       "5   0     2          0  \n",
       "6   0     1          0  \n",
       "7   2     0          1  \n",
       "8   0     0          0  \n",
       "9   0     2          0  "
      ]
     },
     "execution_count": 2,
     "metadata": {},
     "output_type": "execute_result"
    }
   ],
   "source": [
    "df.head(10)"
   ]
  },
  {
   "cell_type": "code",
   "execution_count": 3,
   "id": "c80e04e7",
   "metadata": {
    "ExecuteTime": {
     "end_time": "2024-02-27T05:31:29.450357Z",
     "start_time": "2024-02-27T05:31:29.382286Z"
    }
   },
   "outputs": [
    {
     "data": {
      "text/html": [
       "<div>\n",
       "<style scoped>\n",
       "    .dataframe tbody tr th:only-of-type {\n",
       "        vertical-align: middle;\n",
       "    }\n",
       "\n",
       "    .dataframe tbody tr th {\n",
       "        vertical-align: top;\n",
       "    }\n",
       "\n",
       "    .dataframe thead th {\n",
       "        text-align: right;\n",
       "    }\n",
       "</style>\n",
       "<table border=\"1\" class=\"dataframe\">\n",
       "  <thead>\n",
       "    <tr style=\"text-align: right;\">\n",
       "      <th></th>\n",
       "      <th>age</th>\n",
       "      <th>sex</th>\n",
       "      <th>cp</th>\n",
       "      <th>trestbps</th>\n",
       "      <th>chol</th>\n",
       "      <th>fbs</th>\n",
       "      <th>restecg</th>\n",
       "      <th>thalach</th>\n",
       "      <th>exang</th>\n",
       "      <th>oldpeak</th>\n",
       "      <th>slope</th>\n",
       "      <th>ca</th>\n",
       "      <th>thal</th>\n",
       "      <th>condition</th>\n",
       "    </tr>\n",
       "  </thead>\n",
       "  <tbody>\n",
       "    <tr>\n",
       "      <th>287</th>\n",
       "      <td>42</td>\n",
       "      <td>0</td>\n",
       "      <td>3</td>\n",
       "      <td>102</td>\n",
       "      <td>265</td>\n",
       "      <td>0</td>\n",
       "      <td>2</td>\n",
       "      <td>122</td>\n",
       "      <td>0</td>\n",
       "      <td>0.6</td>\n",
       "      <td>1</td>\n",
       "      <td>0</td>\n",
       "      <td>0</td>\n",
       "      <td>0</td>\n",
       "    </tr>\n",
       "    <tr>\n",
       "      <th>288</th>\n",
       "      <td>42</td>\n",
       "      <td>1</td>\n",
       "      <td>3</td>\n",
       "      <td>136</td>\n",
       "      <td>315</td>\n",
       "      <td>0</td>\n",
       "      <td>0</td>\n",
       "      <td>125</td>\n",
       "      <td>1</td>\n",
       "      <td>1.8</td>\n",
       "      <td>1</td>\n",
       "      <td>0</td>\n",
       "      <td>1</td>\n",
       "      <td>1</td>\n",
       "    </tr>\n",
       "    <tr>\n",
       "      <th>289</th>\n",
       "      <td>42</td>\n",
       "      <td>1</td>\n",
       "      <td>3</td>\n",
       "      <td>140</td>\n",
       "      <td>226</td>\n",
       "      <td>0</td>\n",
       "      <td>0</td>\n",
       "      <td>178</td>\n",
       "      <td>0</td>\n",
       "      <td>0.0</td>\n",
       "      <td>0</td>\n",
       "      <td>0</td>\n",
       "      <td>0</td>\n",
       "      <td>0</td>\n",
       "    </tr>\n",
       "    <tr>\n",
       "      <th>290</th>\n",
       "      <td>41</td>\n",
       "      <td>1</td>\n",
       "      <td>3</td>\n",
       "      <td>110</td>\n",
       "      <td>172</td>\n",
       "      <td>0</td>\n",
       "      <td>2</td>\n",
       "      <td>158</td>\n",
       "      <td>0</td>\n",
       "      <td>0.0</td>\n",
       "      <td>0</td>\n",
       "      <td>0</td>\n",
       "      <td>2</td>\n",
       "      <td>1</td>\n",
       "    </tr>\n",
       "    <tr>\n",
       "      <th>291</th>\n",
       "      <td>40</td>\n",
       "      <td>1</td>\n",
       "      <td>3</td>\n",
       "      <td>110</td>\n",
       "      <td>167</td>\n",
       "      <td>0</td>\n",
       "      <td>2</td>\n",
       "      <td>114</td>\n",
       "      <td>1</td>\n",
       "      <td>2.0</td>\n",
       "      <td>1</td>\n",
       "      <td>0</td>\n",
       "      <td>2</td>\n",
       "      <td>1</td>\n",
       "    </tr>\n",
       "    <tr>\n",
       "      <th>292</th>\n",
       "      <td>40</td>\n",
       "      <td>1</td>\n",
       "      <td>3</td>\n",
       "      <td>152</td>\n",
       "      <td>223</td>\n",
       "      <td>0</td>\n",
       "      <td>0</td>\n",
       "      <td>181</td>\n",
       "      <td>0</td>\n",
       "      <td>0.0</td>\n",
       "      <td>0</td>\n",
       "      <td>0</td>\n",
       "      <td>2</td>\n",
       "      <td>1</td>\n",
       "    </tr>\n",
       "    <tr>\n",
       "      <th>293</th>\n",
       "      <td>39</td>\n",
       "      <td>1</td>\n",
       "      <td>3</td>\n",
       "      <td>118</td>\n",
       "      <td>219</td>\n",
       "      <td>0</td>\n",
       "      <td>0</td>\n",
       "      <td>140</td>\n",
       "      <td>0</td>\n",
       "      <td>1.2</td>\n",
       "      <td>1</td>\n",
       "      <td>0</td>\n",
       "      <td>2</td>\n",
       "      <td>1</td>\n",
       "    </tr>\n",
       "    <tr>\n",
       "      <th>294</th>\n",
       "      <td>35</td>\n",
       "      <td>1</td>\n",
       "      <td>3</td>\n",
       "      <td>120</td>\n",
       "      <td>198</td>\n",
       "      <td>0</td>\n",
       "      <td>0</td>\n",
       "      <td>130</td>\n",
       "      <td>1</td>\n",
       "      <td>1.6</td>\n",
       "      <td>1</td>\n",
       "      <td>0</td>\n",
       "      <td>2</td>\n",
       "      <td>1</td>\n",
       "    </tr>\n",
       "    <tr>\n",
       "      <th>295</th>\n",
       "      <td>35</td>\n",
       "      <td>0</td>\n",
       "      <td>3</td>\n",
       "      <td>138</td>\n",
       "      <td>183</td>\n",
       "      <td>0</td>\n",
       "      <td>0</td>\n",
       "      <td>182</td>\n",
       "      <td>0</td>\n",
       "      <td>1.4</td>\n",
       "      <td>0</td>\n",
       "      <td>0</td>\n",
       "      <td>0</td>\n",
       "      <td>0</td>\n",
       "    </tr>\n",
       "    <tr>\n",
       "      <th>296</th>\n",
       "      <td>35</td>\n",
       "      <td>1</td>\n",
       "      <td>3</td>\n",
       "      <td>126</td>\n",
       "      <td>282</td>\n",
       "      <td>0</td>\n",
       "      <td>2</td>\n",
       "      <td>156</td>\n",
       "      <td>1</td>\n",
       "      <td>0.0</td>\n",
       "      <td>0</td>\n",
       "      <td>0</td>\n",
       "      <td>2</td>\n",
       "      <td>1</td>\n",
       "    </tr>\n",
       "  </tbody>\n",
       "</table>\n",
       "</div>"
      ],
      "text/plain": [
       "     age  sex  cp  trestbps  chol  fbs  restecg  thalach  exang  oldpeak  \\\n",
       "287   42    0   3       102   265    0        2      122      0      0.6   \n",
       "288   42    1   3       136   315    0        0      125      1      1.8   \n",
       "289   42    1   3       140   226    0        0      178      0      0.0   \n",
       "290   41    1   3       110   172    0        2      158      0      0.0   \n",
       "291   40    1   3       110   167    0        2      114      1      2.0   \n",
       "292   40    1   3       152   223    0        0      181      0      0.0   \n",
       "293   39    1   3       118   219    0        0      140      0      1.2   \n",
       "294   35    1   3       120   198    0        0      130      1      1.6   \n",
       "295   35    0   3       138   183    0        0      182      0      1.4   \n",
       "296   35    1   3       126   282    0        2      156      1      0.0   \n",
       "\n",
       "     slope  ca  thal  condition  \n",
       "287      1   0     0          0  \n",
       "288      1   0     1          1  \n",
       "289      0   0     0          0  \n",
       "290      0   0     2          1  \n",
       "291      1   0     2          1  \n",
       "292      0   0     2          1  \n",
       "293      1   0     2          1  \n",
       "294      1   0     2          1  \n",
       "295      0   0     0          0  \n",
       "296      0   0     2          1  "
      ]
     },
     "execution_count": 3,
     "metadata": {},
     "output_type": "execute_result"
    }
   ],
   "source": [
    "df.tail(10)"
   ]
  },
  {
   "cell_type": "code",
   "execution_count": 4,
   "id": "eea68d72",
   "metadata": {
    "ExecuteTime": {
     "end_time": "2024-02-27T05:31:29.535057Z",
     "start_time": "2024-02-27T05:31:29.464263Z"
    }
   },
   "outputs": [
    {
     "name": "stdout",
     "output_type": "stream",
     "text": [
      "<class 'pandas.core.frame.DataFrame'>\n",
      "RangeIndex: 297 entries, 0 to 296\n",
      "Data columns (total 14 columns):\n",
      " #   Column     Non-Null Count  Dtype  \n",
      "---  ------     --------------  -----  \n",
      " 0   age        297 non-null    int64  \n",
      " 1   sex        297 non-null    int64  \n",
      " 2   cp         297 non-null    int64  \n",
      " 3   trestbps   297 non-null    int64  \n",
      " 4   chol       297 non-null    int64  \n",
      " 5   fbs        297 non-null    int64  \n",
      " 6   restecg    297 non-null    int64  \n",
      " 7   thalach    297 non-null    int64  \n",
      " 8   exang      297 non-null    int64  \n",
      " 9   oldpeak    297 non-null    float64\n",
      " 10  slope      297 non-null    int64  \n",
      " 11  ca         297 non-null    int64  \n",
      " 12  thal       297 non-null    int64  \n",
      " 13  condition  297 non-null    int64  \n",
      "dtypes: float64(1), int64(13)\n",
      "memory usage: 32.6 KB\n"
     ]
    }
   ],
   "source": [
    "df.info()"
   ]
  },
  {
   "cell_type": "code",
   "execution_count": 5,
   "id": "51774643",
   "metadata": {
    "ExecuteTime": {
     "end_time": "2024-02-27T05:31:29.707655Z",
     "start_time": "2024-02-27T05:31:29.553931Z"
    }
   },
   "outputs": [
    {
     "data": {
      "text/html": [
       "<div>\n",
       "<style scoped>\n",
       "    .dataframe tbody tr th:only-of-type {\n",
       "        vertical-align: middle;\n",
       "    }\n",
       "\n",
       "    .dataframe tbody tr th {\n",
       "        vertical-align: top;\n",
       "    }\n",
       "\n",
       "    .dataframe thead th {\n",
       "        text-align: right;\n",
       "    }\n",
       "</style>\n",
       "<table border=\"1\" class=\"dataframe\">\n",
       "  <thead>\n",
       "    <tr style=\"text-align: right;\">\n",
       "      <th></th>\n",
       "      <th>age</th>\n",
       "      <th>sex</th>\n",
       "      <th>cp</th>\n",
       "      <th>trestbps</th>\n",
       "      <th>chol</th>\n",
       "      <th>fbs</th>\n",
       "      <th>restecg</th>\n",
       "      <th>thalach</th>\n",
       "      <th>exang</th>\n",
       "      <th>oldpeak</th>\n",
       "      <th>slope</th>\n",
       "      <th>ca</th>\n",
       "      <th>thal</th>\n",
       "      <th>condition</th>\n",
       "    </tr>\n",
       "  </thead>\n",
       "  <tbody>\n",
       "    <tr>\n",
       "      <th>count</th>\n",
       "      <td>297.000000</td>\n",
       "      <td>297.000000</td>\n",
       "      <td>297.000000</td>\n",
       "      <td>297.000000</td>\n",
       "      <td>297.000000</td>\n",
       "      <td>297.000000</td>\n",
       "      <td>297.000000</td>\n",
       "      <td>297.000000</td>\n",
       "      <td>297.000000</td>\n",
       "      <td>297.000000</td>\n",
       "      <td>297.000000</td>\n",
       "      <td>297.000000</td>\n",
       "      <td>297.000000</td>\n",
       "      <td>297.000000</td>\n",
       "    </tr>\n",
       "    <tr>\n",
       "      <th>mean</th>\n",
       "      <td>54.542088</td>\n",
       "      <td>0.676768</td>\n",
       "      <td>2.158249</td>\n",
       "      <td>131.693603</td>\n",
       "      <td>247.350168</td>\n",
       "      <td>0.144781</td>\n",
       "      <td>0.996633</td>\n",
       "      <td>149.599327</td>\n",
       "      <td>0.326599</td>\n",
       "      <td>1.055556</td>\n",
       "      <td>0.602694</td>\n",
       "      <td>0.676768</td>\n",
       "      <td>0.835017</td>\n",
       "      <td>0.461279</td>\n",
       "    </tr>\n",
       "    <tr>\n",
       "      <th>std</th>\n",
       "      <td>9.049736</td>\n",
       "      <td>0.468500</td>\n",
       "      <td>0.964859</td>\n",
       "      <td>17.762806</td>\n",
       "      <td>51.997583</td>\n",
       "      <td>0.352474</td>\n",
       "      <td>0.994914</td>\n",
       "      <td>22.941562</td>\n",
       "      <td>0.469761</td>\n",
       "      <td>1.166123</td>\n",
       "      <td>0.618187</td>\n",
       "      <td>0.938965</td>\n",
       "      <td>0.956690</td>\n",
       "      <td>0.499340</td>\n",
       "    </tr>\n",
       "    <tr>\n",
       "      <th>min</th>\n",
       "      <td>29.000000</td>\n",
       "      <td>0.000000</td>\n",
       "      <td>0.000000</td>\n",
       "      <td>94.000000</td>\n",
       "      <td>126.000000</td>\n",
       "      <td>0.000000</td>\n",
       "      <td>0.000000</td>\n",
       "      <td>71.000000</td>\n",
       "      <td>0.000000</td>\n",
       "      <td>0.000000</td>\n",
       "      <td>0.000000</td>\n",
       "      <td>0.000000</td>\n",
       "      <td>0.000000</td>\n",
       "      <td>0.000000</td>\n",
       "    </tr>\n",
       "    <tr>\n",
       "      <th>25%</th>\n",
       "      <td>48.000000</td>\n",
       "      <td>0.000000</td>\n",
       "      <td>2.000000</td>\n",
       "      <td>120.000000</td>\n",
       "      <td>211.000000</td>\n",
       "      <td>0.000000</td>\n",
       "      <td>0.000000</td>\n",
       "      <td>133.000000</td>\n",
       "      <td>0.000000</td>\n",
       "      <td>0.000000</td>\n",
       "      <td>0.000000</td>\n",
       "      <td>0.000000</td>\n",
       "      <td>0.000000</td>\n",
       "      <td>0.000000</td>\n",
       "    </tr>\n",
       "    <tr>\n",
       "      <th>50%</th>\n",
       "      <td>56.000000</td>\n",
       "      <td>1.000000</td>\n",
       "      <td>2.000000</td>\n",
       "      <td>130.000000</td>\n",
       "      <td>243.000000</td>\n",
       "      <td>0.000000</td>\n",
       "      <td>1.000000</td>\n",
       "      <td>153.000000</td>\n",
       "      <td>0.000000</td>\n",
       "      <td>0.800000</td>\n",
       "      <td>1.000000</td>\n",
       "      <td>0.000000</td>\n",
       "      <td>0.000000</td>\n",
       "      <td>0.000000</td>\n",
       "    </tr>\n",
       "    <tr>\n",
       "      <th>75%</th>\n",
       "      <td>61.000000</td>\n",
       "      <td>1.000000</td>\n",
       "      <td>3.000000</td>\n",
       "      <td>140.000000</td>\n",
       "      <td>276.000000</td>\n",
       "      <td>0.000000</td>\n",
       "      <td>2.000000</td>\n",
       "      <td>166.000000</td>\n",
       "      <td>1.000000</td>\n",
       "      <td>1.600000</td>\n",
       "      <td>1.000000</td>\n",
       "      <td>1.000000</td>\n",
       "      <td>2.000000</td>\n",
       "      <td>1.000000</td>\n",
       "    </tr>\n",
       "    <tr>\n",
       "      <th>max</th>\n",
       "      <td>77.000000</td>\n",
       "      <td>1.000000</td>\n",
       "      <td>3.000000</td>\n",
       "      <td>200.000000</td>\n",
       "      <td>564.000000</td>\n",
       "      <td>1.000000</td>\n",
       "      <td>2.000000</td>\n",
       "      <td>202.000000</td>\n",
       "      <td>1.000000</td>\n",
       "      <td>6.200000</td>\n",
       "      <td>2.000000</td>\n",
       "      <td>3.000000</td>\n",
       "      <td>2.000000</td>\n",
       "      <td>1.000000</td>\n",
       "    </tr>\n",
       "  </tbody>\n",
       "</table>\n",
       "</div>"
      ],
      "text/plain": [
       "              age         sex          cp    trestbps        chol         fbs  \\\n",
       "count  297.000000  297.000000  297.000000  297.000000  297.000000  297.000000   \n",
       "mean    54.542088    0.676768    2.158249  131.693603  247.350168    0.144781   \n",
       "std      9.049736    0.468500    0.964859   17.762806   51.997583    0.352474   \n",
       "min     29.000000    0.000000    0.000000   94.000000  126.000000    0.000000   \n",
       "25%     48.000000    0.000000    2.000000  120.000000  211.000000    0.000000   \n",
       "50%     56.000000    1.000000    2.000000  130.000000  243.000000    0.000000   \n",
       "75%     61.000000    1.000000    3.000000  140.000000  276.000000    0.000000   \n",
       "max     77.000000    1.000000    3.000000  200.000000  564.000000    1.000000   \n",
       "\n",
       "          restecg     thalach       exang     oldpeak       slope          ca  \\\n",
       "count  297.000000  297.000000  297.000000  297.000000  297.000000  297.000000   \n",
       "mean     0.996633  149.599327    0.326599    1.055556    0.602694    0.676768   \n",
       "std      0.994914   22.941562    0.469761    1.166123    0.618187    0.938965   \n",
       "min      0.000000   71.000000    0.000000    0.000000    0.000000    0.000000   \n",
       "25%      0.000000  133.000000    0.000000    0.000000    0.000000    0.000000   \n",
       "50%      1.000000  153.000000    0.000000    0.800000    1.000000    0.000000   \n",
       "75%      2.000000  166.000000    1.000000    1.600000    1.000000    1.000000   \n",
       "max      2.000000  202.000000    1.000000    6.200000    2.000000    3.000000   \n",
       "\n",
       "             thal   condition  \n",
       "count  297.000000  297.000000  \n",
       "mean     0.835017    0.461279  \n",
       "std      0.956690    0.499340  \n",
       "min      0.000000    0.000000  \n",
       "25%      0.000000    0.000000  \n",
       "50%      0.000000    0.000000  \n",
       "75%      2.000000    1.000000  \n",
       "max      2.000000    1.000000  "
      ]
     },
     "execution_count": 5,
     "metadata": {},
     "output_type": "execute_result"
    }
   ],
   "source": [
    "df.describe()"
   ]
  },
  {
   "cell_type": "markdown",
   "id": "4b77b219",
   "metadata": {},
   "source": [
    "## Identifying Null Values"
   ]
  },
  {
   "cell_type": "code",
   "execution_count": 6,
   "id": "2478eec0",
   "metadata": {
    "ExecuteTime": {
     "end_time": "2024-02-27T05:31:29.766264Z",
     "start_time": "2024-02-27T05:31:29.726528Z"
    }
   },
   "outputs": [
    {
     "data": {
      "text/plain": [
       "age          0\n",
       "sex          0\n",
       "cp           0\n",
       "trestbps     0\n",
       "chol         0\n",
       "fbs          0\n",
       "restecg      0\n",
       "thalach      0\n",
       "exang        0\n",
       "oldpeak      0\n",
       "slope        0\n",
       "ca           0\n",
       "thal         0\n",
       "condition    0\n",
       "dtype: int64"
      ]
     },
     "execution_count": 6,
     "metadata": {},
     "output_type": "execute_result"
    }
   ],
   "source": [
    "sumofnull = df.isnull().sum()\n",
    "sumofnull"
   ]
  },
  {
   "cell_type": "markdown",
   "id": "27cd3d76",
   "metadata": {},
   "source": [
    "## Examining Data Types"
   ]
  },
  {
   "cell_type": "code",
   "execution_count": 7,
   "id": "df17a37d",
   "metadata": {
    "ExecuteTime": {
     "end_time": "2024-02-27T05:31:29.816083Z",
     "start_time": "2024-02-27T05:31:29.782792Z"
    }
   },
   "outputs": [],
   "source": [
    "datatype = df.dtypes"
   ]
  },
  {
   "cell_type": "code",
   "execution_count": 8,
   "id": "6334174a",
   "metadata": {
    "ExecuteTime": {
     "end_time": "2024-02-27T05:31:29.843895Z",
     "start_time": "2024-02-27T05:31:29.820055Z"
    }
   },
   "outputs": [
    {
     "data": {
      "text/plain": [
       "age            int64\n",
       "sex            int64\n",
       "cp             int64\n",
       "trestbps       int64\n",
       "chol           int64\n",
       "fbs            int64\n",
       "restecg        int64\n",
       "thalach        int64\n",
       "exang          int64\n",
       "oldpeak      float64\n",
       "slope          int64\n",
       "ca             int64\n",
       "thal           int64\n",
       "condition      int64\n",
       "dtype: object"
      ]
     },
     "execution_count": 8,
     "metadata": {},
     "output_type": "execute_result"
    }
   ],
   "source": [
    "datatype"
   ]
  },
  {
   "cell_type": "markdown",
   "id": "f79f7e60",
   "metadata": {},
   "source": [
    "## Identifying Numerical and Categorical Features"
   ]
  },
  {
   "cell_type": "code",
   "execution_count": 9,
   "id": "187e2f84",
   "metadata": {
    "ExecuteTime": {
     "end_time": "2024-02-27T05:31:29.874918Z",
     "start_time": "2024-02-27T05:31:29.859789Z"
    }
   },
   "outputs": [],
   "source": [
    "def get_features_lists():\n",
    "    numeric_features = ['age','trestbps','chol','thalach','oldpeak','condition']\n",
    "    cat_features = ['sex','cp','fbs','restecg','exang','slope','ca','thal']\n",
    "    \n",
    "    return numeric_features, cat_features\n",
    "numeric_features, cat_features = get_features_lists()"
   ]
  },
  {
   "cell_type": "code",
   "execution_count": 10,
   "id": "a7937fd7",
   "metadata": {
    "ExecuteTime": {
     "end_time": "2024-02-27T05:31:29.922183Z",
     "start_time": "2024-02-27T05:31:29.898344Z"
    }
   },
   "outputs": [
    {
     "data": {
      "text/plain": [
       "(['age', 'trestbps', 'chol', 'thalach', 'oldpeak', 'condition'],\n",
       " ['sex', 'cp', 'fbs', 'restecg', 'exang', 'slope', 'ca', 'thal'])"
      ]
     },
     "execution_count": 10,
     "metadata": {},
     "output_type": "execute_result"
    }
   ],
   "source": [
    "get_features_lists()"
   ]
  },
  {
   "cell_type": "markdown",
   "id": "81393876",
   "metadata": {},
   "source": [
    "## Converting Features to Categorical Data Types"
   ]
  },
  {
   "cell_type": "code",
   "execution_count": 11,
   "id": "5db5425b",
   "metadata": {
    "ExecuteTime": {
     "end_time": "2024-02-27T05:31:29.984962Z",
     "start_time": "2024-02-27T05:31:29.926155Z"
    }
   },
   "outputs": [
    {
     "name": "stdout",
     "output_type": "stream",
     "text": [
      "age            int64\n",
      "sex           object\n",
      "cp            object\n",
      "trestbps       int64\n",
      "chol           int64\n",
      "fbs           object\n",
      "restecg       object\n",
      "thalach        int64\n",
      "exang         object\n",
      "oldpeak      float64\n",
      "slope         object\n",
      "ca            object\n",
      "thal          object\n",
      "condition      int64\n",
      "dtype: object\n"
     ]
    }
   ],
   "source": [
    "lst = ['sex','cp','fbs','restecg','exang','slope','ca','thal']\n",
    "df[lst] = df[lst].astype(object)\n",
    "output = df.dtypes\n",
    "print(output)"
   ]
  },
  {
   "cell_type": "markdown",
   "id": "8ced06e1",
   "metadata": {},
   "source": [
    "## Exploring Feature Correlation"
   ]
  },
  {
   "cell_type": "code",
   "execution_count": 12,
   "id": "3a4d1fae",
   "metadata": {
    "ExecuteTime": {
     "end_time": "2024-02-27T05:31:33.575776Z",
     "start_time": "2024-02-27T05:31:29.997392Z"
    }
   },
   "outputs": [
    {
     "data": {
      "image/png": "[encoded data removed]",
      "text/plain": [
       "<Figure size 720x576 with 2 Axes>"
      ]
     },
     "metadata": {
      "needs_background": "light"
     },
     "output_type": "display_data"
    }
   ],
   "source": [
    "import matplotlib.pyplot as plt\n",
    "import seaborn as sns\n",
    "\n",
    "numeric_features = ['age', 'trestbps', 'chol', 'thalach', 'oldpeak', 'condition']\n",
    "\n",
    "# Select relevant columns for correlation analysis\n",
    "numeric_df = df[numeric_features]\n",
    "\n",
    "# Calculate correlation\n",
    "corr_data = numeric_df.corr()\n",
    "\n",
    "# Create heatmap\n",
    "plt.figure(figsize=(10, 8))\n",
    "sns.heatmap(corr_data, annot=True, cmap='Reds', linewidths=0.1)\n",
    "plt.title('Correlation Heatmap of Numeric Features')\n",
    "plt.show()"
   ]
  },
  {
   "cell_type": "markdown",
   "id": "0925fb3e",
   "metadata": {},
   "source": [
    "## Visualizing Health Conditions"
   ]
  },
  {
   "cell_type": "code",
   "execution_count": 13,
   "id": "5bc5c2d3",
   "metadata": {
    "ExecuteTime": {
     "end_time": "2024-02-27T05:31:33.886555Z",
     "start_time": "2024-02-27T05:31:33.590684Z"
    }
   },
   "outputs": [
    {
     "data": {
      "image/png": "[encoded data removed]",
      "text/plain": [
       "<Figure size 432x288 with 1 Axes>"
      ]
     },
     "metadata": {
      "needs_background": "light"
     },
     "output_type": "display_data"
    }
   ],
   "source": [
    "condition_ax = sns.countplot(x=df['condition'])\n",
    "plt.show()"
   ]
  },
  {
   "cell_type": "markdown",
   "id": "67f99257",
   "metadata": {},
   "source": [
    "## Analysing Health Conditions by Gender"
   ]
  },
  {
   "cell_type": "code",
   "execution_count": 14,
   "id": "42daf495",
   "metadata": {
    "ExecuteTime": {
     "end_time": "2024-02-27T05:31:34.507282Z",
     "start_time": "2024-02-27T05:31:33.900967Z"
    },
    "scrolled": true
   },
   "outputs": [
    {
     "data": {
      "image/png": "[encoded data removed]",
      "text/plain": [
       "<Figure size 432x288 with 1 Axes>"
      ]
     },
     "metadata": {
      "needs_background": "light"
     },
     "output_type": "display_data"
    }
   ],
   "source": [
    "sex_ax = sns.countplot(x=df['sex'],hue=df['condition'])\n",
    "plt.show()"
   ]
  },
  {
   "cell_type": "markdown",
   "id": "19fa1ed6",
   "metadata": {},
   "source": [
    "## Examining Chest Pain Types and Health Conditions"
   ]
  },
  {
   "cell_type": "code",
   "execution_count": 15,
   "id": "4fcc97fa",
   "metadata": {
    "ExecuteTime": {
     "end_time": "2024-02-27T05:31:34.993827Z",
     "start_time": "2024-02-27T05:31:34.537085Z"
    },
    "scrolled": true
   },
   "outputs": [
    {
     "data": {
      "image/png": "[encoded data removed]",
      "text/plain": [
       "<Figure size 432x288 with 1 Axes>"
      ]
     },
     "metadata": {
      "needs_background": "light"
     },
     "output_type": "display_data"
    }
   ],
   "source": [
    "cp_ax = sns.countplot(x=df['cp'],hue=df['condition'])\n",
    "plt.show()"
   ]
  },
  {
   "cell_type": "markdown",
   "id": "78b655e8",
   "metadata": {},
   "source": [
    "## Investigating Fasting Blood Sugar Levels and Health Conditions"
   ]
  },
  {
   "cell_type": "code",
   "execution_count": 16,
   "id": "d67c03e4",
   "metadata": {
    "ExecuteTime": {
     "end_time": "2024-02-27T05:31:35.634802Z",
     "start_time": "2024-02-27T05:31:35.007216Z"
    }
   },
   "outputs": [
    {
     "data": {
      "image/png": "[encoded data removed]",
      "text/plain": [
       "<Figure size 432x288 with 1 Axes>"
      ]
     },
     "metadata": {
      "needs_background": "light"
     },
     "output_type": "display_data"
    }
   ],
   "source": [
    "fbs_ax = sns.countplot(x=df['fbs'],hue=df['condition'])\n",
    "plt.show()"
   ]
  },
  {
   "cell_type": "markdown",
   "id": "34c6f827",
   "metadata": {},
   "source": [
    "## Analysing Resting Electrocardiographic Results and Health Conditions"
   ]
  },
  {
   "cell_type": "code",
   "execution_count": 17,
   "id": "094a9bc8",
   "metadata": {
    "ExecuteTime": {
     "end_time": "2024-02-27T05:31:36.102190Z",
     "start_time": "2024-02-27T05:31:35.654633Z"
    }
   },
   "outputs": [
    {
     "data": {
      "image/png": "[encoded data removed]",
      "text/plain": [
       "<Figure size 432x288 with 1 Axes>"
      ]
     },
     "metadata": {
      "needs_background": "light"
     },
     "output_type": "display_data"
    }
   ],
   "source": [
    "restecg_ax = sns.countplot(x=df['restecg'],hue=df['condition'])\n",
    "plt.show()"
   ]
  },
  {
   "cell_type": "markdown",
   "id": "430ae77f",
   "metadata": {},
   "source": [
    "## Examining Exercise-Induced Angina and Health Conditions"
   ]
  },
  {
   "cell_type": "code",
   "execution_count": 18,
   "id": "f760f13f",
   "metadata": {
    "ExecuteTime": {
     "end_time": "2024-02-27T05:31:36.448595Z",
     "start_time": "2024-02-27T05:31:36.117610Z"
    }
   },
   "outputs": [
    {
     "data": {
      "image/png": "[encoded data removed]",
      "text/plain": [
       "<Figure size 432x288 with 1 Axes>"
      ]
     },
     "metadata": {
      "needs_background": "light"
     },
     "output_type": "display_data"
    }
   ],
   "source": [
    "exang_ax = sns.countplot(x=df['exang'],hue=df['condition'])\n",
    "plt.show()"
   ]
  },
  {
   "cell_type": "markdown",
   "id": "774c6c9b",
   "metadata": {},
   "source": [
    "## Investigating the Slope of the ST Segment and Health Conditions"
   ]
  },
  {
   "cell_type": "code",
   "execution_count": 19,
   "id": "23b25b64",
   "metadata": {
    "ExecuteTime": {
     "end_time": "2024-02-27T05:31:36.797763Z",
     "start_time": "2024-02-27T05:31:36.460515Z"
    }
   },
   "outputs": [
    {
     "data": {
      "image/png": "[encoded data removed]",
      "text/plain": [
       "<Figure size 432x288 with 1 Axes>"
      ]
     },
     "metadata": {
      "needs_background": "light"
     },
     "output_type": "display_data"
    }
   ],
   "source": [
    "slope_ax = sns.countplot(x=df['slope'],hue=df['condition'])\n",
    "plt.show()"
   ]
  },
  {
   "cell_type": "markdown",
   "id": "a9178605",
   "metadata": {},
   "source": [
    "## Analysing the number of Major Vessels Colored by Fluoroscopy an Health Conditions"
   ]
  },
  {
   "cell_type": "code",
   "execution_count": 20,
   "id": "ec2a7b76",
   "metadata": {
    "ExecuteTime": {
     "end_time": "2024-02-27T05:31:37.188821Z",
     "start_time": "2024-02-27T05:31:36.809208Z"
    }
   },
   "outputs": [
    {
     "data": {
      "image/png": "[encoded data removed]",
      "text/plain": [
       "<Figure size 432x288 with 1 Axes>"
      ]
     },
     "metadata": {
      "needs_background": "light"
     },
     "output_type": "display_data"
    }
   ],
   "source": [
    "ca_ax = sns.countplot(x=df['ca'],hue=df['condition'])\n",
    "plt.show()"
   ]
  },
  {
   "cell_type": "markdown",
   "id": "78885426",
   "metadata": {},
   "source": [
    "## Examining Thalassemia and Health Conditions"
   ]
  },
  {
   "cell_type": "code",
   "execution_count": 21,
   "id": "c577c1dd",
   "metadata": {
    "ExecuteTime": {
     "end_time": "2024-02-27T05:31:37.828829Z",
     "start_time": "2024-02-27T05:31:37.202726Z"
    }
   },
   "outputs": [
    {
     "data": {
      "image/png": "[encoded data removed]",
      "text/plain": [
       "<Figure size 432x288 with 1 Axes>"
      ]
     },
     "metadata": {
      "needs_background": "light"
     },
     "output_type": "display_data"
    }
   ],
   "source": [
    "thal_ax = sns.countplot(x=df['thal'],hue=df['condition'])\n",
    "plt.show()"
   ]
  },
  {
   "cell_type": "markdown",
   "id": "60b6dfaa",
   "metadata": {},
   "source": [
    "## Visualing Age Distribution"
   ]
  },
  {
   "cell_type": "code",
   "execution_count": 22,
   "id": "b729c135",
   "metadata": {
    "ExecuteTime": {
     "end_time": "2024-02-27T05:31:38.254009Z",
     "start_time": "2024-02-27T05:31:37.854658Z"
    }
   },
   "outputs": [
    {
     "data": {
      "image/png": "[encoded data removed]",
      "text/plain": [
       "<Figure size 720x432 with 1 Axes>"
      ]
     },
     "metadata": {
      "needs_background": "light"
     },
     "output_type": "display_data"
    }
   ],
   "source": [
    "age_col = df['age']\n",
    "plt.figure(figsize=(10, 6))\n",
    "plt.hist(age_col, bins=20, color='skyblue', alpha=0.7)\n",
    "plt.xlabel('Age')\n",
    "plt.ylabel('Frequency')\n",
    "plt.title('Age Distribution')\n",
    "plt.show()"
   ]
  },
  {
   "cell_type": "markdown",
   "id": "1e894a04",
   "metadata": {},
   "source": [
    "## Visualising Resting Blood Pressure Distribution"
   ]
  },
  {
   "cell_type": "code",
   "execution_count": 23,
   "id": "21517ee2",
   "metadata": {
    "ExecuteTime": {
     "end_time": "2024-02-27T05:31:38.778819Z",
     "start_time": "2024-02-27T05:31:38.376235Z"
    }
   },
   "outputs": [
    {
     "data": {
      "image/png": "[encoded data removed]",
      "text/plain": [
       "<Figure size 720x432 with 1 Axes>"
      ]
     },
     "metadata": {
      "needs_background": "light"
     },
     "output_type": "display_data"
    }
   ],
   "source": [
    "trestbps_col = df['trestbps']\n",
    "plt.figure(figsize=(10, 6))\n",
    "plt.hist(trestbps_col, bins=20, color='skyblue', alpha=0.7)\n",
    "plt.xlabel('trestbps')\n",
    "plt.ylabel('Frequency')\n",
    "plt.title('trestbps Distribution')\n",
    "plt.show()"
   ]
  },
  {
   "cell_type": "markdown",
   "id": "3467d36a",
   "metadata": {},
   "source": [
    "## Visualizing Cholistrol  Distribution"
   ]
  },
  {
   "cell_type": "code",
   "execution_count": 24,
   "id": "aa48135f",
   "metadata": {
    "ExecuteTime": {
     "end_time": "2024-02-27T05:31:39.152413Z",
     "start_time": "2024-02-27T05:31:38.803392Z"
    }
   },
   "outputs": [
    {
     "data": {
      "image/png": "[encoded data removed]",
      "text/plain": [
       "<Figure size 720x432 with 1 Axes>"
      ]
     },
     "metadata": {
      "needs_background": "light"
     },
     "output_type": "display_data"
    }
   ],
   "source": [
    "chol_col = df['chol']\n",
    "plt.figure(figsize=(10, 6))\n",
    "plt.hist(chol_col, bins=20, color='skyblue', alpha=0.7)\n",
    "plt.xlabel('Cholestrol (chol)')\n",
    "plt.ylabel('Frequency')\n",
    "plt.title('Cholestrol Distribution')\n",
    "plt.show()"
   ]
  },
  {
   "cell_type": "markdown",
   "id": "ee6eeac3",
   "metadata": {},
   "source": [
    "## Visualizing Maximum Heart Rate Distribution"
   ]
  },
  {
   "cell_type": "code",
   "execution_count": 25,
   "id": "11b51a59",
   "metadata": {
    "ExecuteTime": {
     "end_time": "2024-02-27T05:31:39.587681Z",
     "start_time": "2024-02-27T05:31:39.166327Z"
    }
   },
   "outputs": [
    {
     "data": {
      "image/png": "[encoded data removed]",
      "text/plain": [
       "<Figure size 720x432 with 1 Axes>"
      ]
     },
     "metadata": {
      "needs_background": "light"
     },
     "output_type": "display_data"
    }
   ],
   "source": [
    "thalach_col = df['thalach']\n",
    "plt.figure(figsize=(10, 6))\n",
    "plt.hist(thalach_col, bins=20, color='skyblue', alpha=0.7)\n",
    "plt.xlabel('Maximum Heart Rate(thalach)')\n",
    "plt.ylabel('Frequency')\n",
    "plt.title('Maximum Heart Rate Distribution')\n",
    "plt.show()"
   ]
  },
  {
   "cell_type": "markdown",
   "id": "8bdc3d71",
   "metadata": {},
   "source": [
    "## Visualizing ST Depression Distribution"
   ]
  },
  {
   "cell_type": "code",
   "execution_count": 26,
   "id": "c6971084",
   "metadata": {
    "ExecuteTime": {
     "end_time": "2024-02-27T05:31:40.348463Z",
     "start_time": "2024-02-27T05:31:39.621014Z"
    }
   },
   "outputs": [
    {
     "data": {
      "image/png": "[encoded data removed]",
      "text/plain": [
       "<Figure size 720x432 with 1 Axes>"
      ]
     },
     "metadata": {
      "needs_background": "light"
     },
     "output_type": "display_data"
    }
   ],
   "source": [
    "oldpeak_col = df['oldpeak']\n",
    "plt.figure(figsize=(10, 6))\n",
    "plt.hist(oldpeak_col, bins=20, color='skyblue', alpha=0.7)\n",
    "plt.xlabel('ST depression')\n",
    "plt.ylabel('Frequency')\n",
    "plt.title('Distribution of ST depression')\n",
    "plt.show()"
   ]
  },
  {
   "cell_type": "markdown",
   "id": "416c95e2",
   "metadata": {},
   "source": [
    "## Visualizing Chest Pain Types, Age, and Health Conditions"
   ]
  },
  {
   "cell_type": "code",
   "execution_count": 27,
   "id": "ae7a4bd2",
   "metadata": {
    "ExecuteTime": {
     "end_time": "2024-02-27T05:31:41.722129Z",
     "start_time": "2024-02-27T05:31:40.367335Z"
    }
   },
   "outputs": [
    {
     "data": {
      "image/png": "[encoded data removed]",
      "text/plain": [
       "<Figure size 414.25x360 with 1 Axes>"
      ]
     },
     "metadata": {
      "needs_background": "light"
     },
     "output_type": "display_data"
    }
   ],
   "source": [
    "violinplt = sns.catplot(x='cp',y='age',hue='condition',data=df,kind='violin',palette='muted')"
   ]
  },
  {
   "cell_type": "markdown",
   "id": "e6d4dd12",
   "metadata": {},
   "source": [
    "## Analyzing Fasting Blood Sugar Levels and Health Conditions"
   ]
  },
  {
   "cell_type": "code",
   "execution_count": 28,
   "id": "94c1b791",
   "metadata": {
    "ExecuteTime": {
     "end_time": "2024-02-27T05:31:42.349166Z",
     "start_time": "2024-02-27T05:31:41.756900Z"
    }
   },
   "outputs": [
    {
     "data": {
      "image/png": "[encoded data removed]",
      "text/plain": [
       "<Figure size 414.25x360 with 1 Axes>"
      ]
     },
     "metadata": {
      "needs_background": "light"
     },
     "output_type": "display_data"
    }
   ],
   "source": [
    "countplt = sns.catplot(x='fbs',hue='condition',data=df,kind='count',alpha=0.85)"
   ]
  },
  {
   "cell_type": "markdown",
   "id": "69c5ba75",
   "metadata": {},
   "source": [
    "## Encoding Categorical Features"
   ]
  },
  {
   "cell_type": "code",
   "execution_count": 29,
   "id": "bd6a8257",
   "metadata": {
    "ExecuteTime": {
     "end_time": "2024-02-27T05:31:42.447468Z",
     "start_time": "2024-02-27T05:31:42.376447Z"
    }
   },
   "outputs": [
    {
     "name": "stdout",
     "output_type": "stream",
     "text": [
      "     age sex  trestbps  chol fbs restecg  thalach exang  oldpeak ca  ...  \\\n",
      "0     69   1       160   234   1       2      131     0      0.1  1  ...   \n",
      "1     69   0       140   239   0       0      151     0      1.8  2  ...   \n",
      "2     66   0       150   226   0       0      114     0      2.6  0  ...   \n",
      "3     65   1       138   282   1       2      174     0      1.4  1  ...   \n",
      "4     64   1       110   211   0       2      144     1      1.8  0  ...   \n",
      "..   ...  ..       ...   ...  ..     ...      ...   ...      ... ..  ...   \n",
      "292   40   1       152   223   0       0      181     0      0.0  0  ...   \n",
      "293   39   1       118   219   0       0      140     0      1.2  0  ...   \n",
      "294   35   1       120   198   0       0      130     1      1.6  0  ...   \n",
      "295   35   0       138   183   0       0      182     0      1.4  0  ...   \n",
      "296   35   1       126   282   0       2      156     1      0.0  0  ...   \n",
      "\n",
      "     cp_0  cp_1  cp_2  cp_3  thal_0  thal_1  thal_2  slope_0  slope_1  slope_2  \n",
      "0       1     0     0     0       1       0       0        0        1        0  \n",
      "1       1     0     0     0       1       0       0        1        0        0  \n",
      "2       1     0     0     0       1       0       0        0        0        1  \n",
      "3       1     0     0     0       1       0       0        0        1        0  \n",
      "4       1     0     0     0       1       0       0        0        1        0  \n",
      "..    ...   ...   ...   ...     ...     ...     ...      ...      ...      ...  \n",
      "292     0     0     0     1       0       0       1        1        0        0  \n",
      "293     0     0     0     1       0       0       1        0        1        0  \n",
      "294     0     0     0     1       0       0       1        0        1        0  \n",
      "295     0     0     0     1       1       0       0        1        0        0  \n",
      "296     0     0     0     1       0       0       1        1        0        0  \n",
      "\n",
      "[297 rows x 21 columns]\n"
     ]
    }
   ],
   "source": [
    "# Define the list of categorical columns\n",
    "categorical_cols = ['cp', 'thal', 'slope']\n",
    "\n",
    "# Iterate through the categorical columns and cast each to integer datatype\n",
    "for col in categorical_cols:\n",
    "    df[col] = df[col].astype(int)\n",
    "\n",
    "# Perform one-hot encoding on the specified categorical columns\n",
    "df_encoded = pd.get_dummies(df, columns=categorical_cols, prefix_sep='_')\n",
    "\n",
    "# Display the resulting DataFrame\n",
    "print(df_encoded)"
   ]
  },
  {
   "cell_type": "markdown",
   "id": "a50620b0",
   "metadata": {},
   "source": [
    "## Preparing Features and Target Variables"
   ]
  },
  {
   "cell_type": "code",
   "execution_count": 30,
   "id": "8dcc0300",
   "metadata": {
    "ExecuteTime": {
     "end_time": "2024-02-27T05:31:42.505727Z",
     "start_time": "2024-02-27T05:31:42.465350Z"
    }
   },
   "outputs": [],
   "source": [
    "x = df.drop('condition', axis=1)\n",
    "\n",
    "y = df['condition']"
   ]
  },
  {
   "cell_type": "code",
   "execution_count": 31,
   "id": "a54c8b1a",
   "metadata": {
    "ExecuteTime": {
     "end_time": "2024-02-27T05:31:42.600910Z",
     "start_time": "2024-02-27T05:31:42.508737Z"
    }
   },
   "outputs": [
    {
     "data": {
      "text/html": [
       "<div>\n",
       "<style scoped>\n",
       "    .dataframe tbody tr th:only-of-type {\n",
       "        vertical-align: middle;\n",
       "    }\n",
       "\n",
       "    .dataframe tbody tr th {\n",
       "        vertical-align: top;\n",
       "    }\n",
       "\n",
       "    .dataframe thead th {\n",
       "        text-align: right;\n",
       "    }\n",
       "</style>\n",
       "<table border=\"1\" class=\"dataframe\">\n",
       "  <thead>\n",
       "    <tr style=\"text-align: right;\">\n",
       "      <th></th>\n",
       "      <th>age</th>\n",
       "      <th>sex</th>\n",
       "      <th>cp</th>\n",
       "      <th>trestbps</th>\n",
       "      <th>chol</th>\n",
       "      <th>fbs</th>\n",
       "      <th>restecg</th>\n",
       "      <th>thalach</th>\n",
       "      <th>exang</th>\n",
       "      <th>oldpeak</th>\n",
       "      <th>slope</th>\n",
       "      <th>ca</th>\n",
       "      <th>thal</th>\n",
       "    </tr>\n",
       "  </thead>\n",
       "  <tbody>\n",
       "    <tr>\n",
       "      <th>0</th>\n",
       "      <td>69</td>\n",
       "      <td>1</td>\n",
       "      <td>0</td>\n",
       "      <td>160</td>\n",
       "      <td>234</td>\n",
       "      <td>1</td>\n",
       "      <td>2</td>\n",
       "      <td>131</td>\n",
       "      <td>0</td>\n",
       "      <td>0.1</td>\n",
       "      <td>1</td>\n",
       "      <td>1</td>\n",
       "      <td>0</td>\n",
       "    </tr>\n",
       "    <tr>\n",
       "      <th>1</th>\n",
       "      <td>69</td>\n",
       "      <td>0</td>\n",
       "      <td>0</td>\n",
       "      <td>140</td>\n",
       "      <td>239</td>\n",
       "      <td>0</td>\n",
       "      <td>0</td>\n",
       "      <td>151</td>\n",
       "      <td>0</td>\n",
       "      <td>1.8</td>\n",
       "      <td>0</td>\n",
       "      <td>2</td>\n",
       "      <td>0</td>\n",
       "    </tr>\n",
       "    <tr>\n",
       "      <th>2</th>\n",
       "      <td>66</td>\n",
       "      <td>0</td>\n",
       "      <td>0</td>\n",
       "      <td>150</td>\n",
       "      <td>226</td>\n",
       "      <td>0</td>\n",
       "      <td>0</td>\n",
       "      <td>114</td>\n",
       "      <td>0</td>\n",
       "      <td>2.6</td>\n",
       "      <td>2</td>\n",
       "      <td>0</td>\n",
       "      <td>0</td>\n",
       "    </tr>\n",
       "    <tr>\n",
       "      <th>3</th>\n",
       "      <td>65</td>\n",
       "      <td>1</td>\n",
       "      <td>0</td>\n",
       "      <td>138</td>\n",
       "      <td>282</td>\n",
       "      <td>1</td>\n",
       "      <td>2</td>\n",
       "      <td>174</td>\n",
       "      <td>0</td>\n",
       "      <td>1.4</td>\n",
       "      <td>1</td>\n",
       "      <td>1</td>\n",
       "      <td>0</td>\n",
       "    </tr>\n",
       "    <tr>\n",
       "      <th>4</th>\n",
       "      <td>64</td>\n",
       "      <td>1</td>\n",
       "      <td>0</td>\n",
       "      <td>110</td>\n",
       "      <td>211</td>\n",
       "      <td>0</td>\n",
       "      <td>2</td>\n",
       "      <td>144</td>\n",
       "      <td>1</td>\n",
       "      <td>1.8</td>\n",
       "      <td>1</td>\n",
       "      <td>0</td>\n",
       "      <td>0</td>\n",
       "    </tr>\n",
       "    <tr>\n",
       "      <th>...</th>\n",
       "      <td>...</td>\n",
       "      <td>...</td>\n",
       "      <td>...</td>\n",
       "      <td>...</td>\n",
       "      <td>...</td>\n",
       "      <td>...</td>\n",
       "      <td>...</td>\n",
       "      <td>...</td>\n",
       "      <td>...</td>\n",
       "      <td>...</td>\n",
       "      <td>...</td>\n",
       "      <td>...</td>\n",
       "      <td>...</td>\n",
       "    </tr>\n",
       "    <tr>\n",
       "      <th>292</th>\n",
       "      <td>40</td>\n",
       "      <td>1</td>\n",
       "      <td>3</td>\n",
       "      <td>152</td>\n",
       "      <td>223</td>\n",
       "      <td>0</td>\n",
       "      <td>0</td>\n",
       "      <td>181</td>\n",
       "      <td>0</td>\n",
       "      <td>0.0</td>\n",
       "      <td>0</td>\n",
       "      <td>0</td>\n",
       "      <td>2</td>\n",
       "    </tr>\n",
       "    <tr>\n",
       "      <th>293</th>\n",
       "      <td>39</td>\n",
       "      <td>1</td>\n",
       "      <td>3</td>\n",
       "      <td>118</td>\n",
       "      <td>219</td>\n",
       "      <td>0</td>\n",
       "      <td>0</td>\n",
       "      <td>140</td>\n",
       "      <td>0</td>\n",
       "      <td>1.2</td>\n",
       "      <td>1</td>\n",
       "      <td>0</td>\n",
       "      <td>2</td>\n",
       "    </tr>\n",
       "    <tr>\n",
       "      <th>294</th>\n",
       "      <td>35</td>\n",
       "      <td>1</td>\n",
       "      <td>3</td>\n",
       "      <td>120</td>\n",
       "      <td>198</td>\n",
       "      <td>0</td>\n",
       "      <td>0</td>\n",
       "      <td>130</td>\n",
       "      <td>1</td>\n",
       "      <td>1.6</td>\n",
       "      <td>1</td>\n",
       "      <td>0</td>\n",
       "      <td>2</td>\n",
       "    </tr>\n",
       "    <tr>\n",
       "      <th>295</th>\n",
       "      <td>35</td>\n",
       "      <td>0</td>\n",
       "      <td>3</td>\n",
       "      <td>138</td>\n",
       "      <td>183</td>\n",
       "      <td>0</td>\n",
       "      <td>0</td>\n",
       "      <td>182</td>\n",
       "      <td>0</td>\n",
       "      <td>1.4</td>\n",
       "      <td>0</td>\n",
       "      <td>0</td>\n",
       "      <td>0</td>\n",
       "    </tr>\n",
       "    <tr>\n",
       "      <th>296</th>\n",
       "      <td>35</td>\n",
       "      <td>1</td>\n",
       "      <td>3</td>\n",
       "      <td>126</td>\n",
       "      <td>282</td>\n",
       "      <td>0</td>\n",
       "      <td>2</td>\n",
       "      <td>156</td>\n",
       "      <td>1</td>\n",
       "      <td>0.0</td>\n",
       "      <td>0</td>\n",
       "      <td>0</td>\n",
       "      <td>2</td>\n",
       "    </tr>\n",
       "  </tbody>\n",
       "</table>\n",
       "<p>297 rows × 13 columns</p>\n",
       "</div>"
      ],
      "text/plain": [
       "     age sex  cp  trestbps  chol fbs restecg  thalach exang  oldpeak  slope  \\\n",
       "0     69   1   0       160   234   1       2      131     0      0.1      1   \n",
       "1     69   0   0       140   239   0       0      151     0      1.8      0   \n",
       "2     66   0   0       150   226   0       0      114     0      2.6      2   \n",
       "3     65   1   0       138   282   1       2      174     0      1.4      1   \n",
       "4     64   1   0       110   211   0       2      144     1      1.8      1   \n",
       "..   ...  ..  ..       ...   ...  ..     ...      ...   ...      ...    ...   \n",
       "292   40   1   3       152   223   0       0      181     0      0.0      0   \n",
       "293   39   1   3       118   219   0       0      140     0      1.2      1   \n",
       "294   35   1   3       120   198   0       0      130     1      1.6      1   \n",
       "295   35   0   3       138   183   0       0      182     0      1.4      0   \n",
       "296   35   1   3       126   282   0       2      156     1      0.0      0   \n",
       "\n",
       "    ca  thal  \n",
       "0    1     0  \n",
       "1    2     0  \n",
       "2    0     0  \n",
       "3    1     0  \n",
       "4    0     0  \n",
       "..  ..   ...  \n",
       "292  0     2  \n",
       "293  0     2  \n",
       "294  0     2  \n",
       "295  0     0  \n",
       "296  0     2  \n",
       "\n",
       "[297 rows x 13 columns]"
      ]
     },
     "execution_count": 31,
     "metadata": {},
     "output_type": "execute_result"
    }
   ],
   "source": [
    "x"
   ]
  },
  {
   "cell_type": "code",
   "execution_count": 32,
   "id": "143775ab",
   "metadata": {
    "ExecuteTime": {
     "end_time": "2024-02-27T05:31:42.681478Z",
     "start_time": "2024-02-27T05:31:42.619302Z"
    }
   },
   "outputs": [
    {
     "data": {
      "text/plain": [
       "0      0\n",
       "1      0\n",
       "2      0\n",
       "3      1\n",
       "4      0\n",
       "      ..\n",
       "292    1\n",
       "293    1\n",
       "294    1\n",
       "295    0\n",
       "296    1\n",
       "Name: condition, Length: 297, dtype: int64"
      ]
     },
     "execution_count": 32,
     "metadata": {},
     "output_type": "execute_result"
    }
   ],
   "source": [
    "y"
   ]
  },
  {
   "cell_type": "markdown",
   "id": "51316601",
   "metadata": {},
   "source": [
    "## Scaling Features"
   ]
  },
  {
   "cell_type": "code",
   "execution_count": 33,
   "id": "be95917d",
   "metadata": {
    "ExecuteTime": {
     "end_time": "2024-02-27T05:31:44.190822Z",
     "start_time": "2024-02-27T05:31:42.686442Z"
    }
   },
   "outputs": [],
   "source": [
    "from sklearn.preprocessing import MinMaxScaler\n",
    "# Initialize MinMaxScaler\n",
    "scaler = MinMaxScaler()\n",
    "# Apply MinMaxScaler to scale the 'x' DataFrame\n",
    "x_scaled = scaler.fit_transform(x)"
   ]
  },
  {
   "cell_type": "code",
   "execution_count": 34,
   "id": "d6623d86",
   "metadata": {
    "ExecuteTime": {
     "end_time": "2024-02-27T05:31:44.237900Z",
     "start_time": "2024-02-27T05:31:44.203766Z"
    }
   },
   "outputs": [
    {
     "data": {
      "text/plain": [
       "array([[0.83333333, 1.        , 0.        , ..., 0.5       , 0.33333333,\n",
       "        0.        ],\n",
       "       [0.83333333, 0.        , 0.        , ..., 0.        , 0.66666667,\n",
       "        0.        ],\n",
       "       [0.77083333, 0.        , 0.        , ..., 1.        , 0.        ,\n",
       "        0.        ],\n",
       "       ...,\n",
       "       [0.125     , 1.        , 1.        , ..., 0.5       , 0.        ,\n",
       "        1.        ],\n",
       "       [0.125     , 0.        , 1.        , ..., 0.        , 0.        ,\n",
       "        0.        ],\n",
       "       [0.125     , 1.        , 1.        , ..., 0.        , 0.        ,\n",
       "        1.        ]])"
      ]
     },
     "execution_count": 34,
     "metadata": {},
     "output_type": "execute_result"
    }
   ],
   "source": [
    "x_scaled"
   ]
  },
  {
   "cell_type": "markdown",
   "id": "102ccb7f",
   "metadata": {},
   "source": [
    "## Splitting the Data into Training and Testing Sets"
   ]
  },
  {
   "cell_type": "code",
   "execution_count": 35,
   "id": "48f1adc9",
   "metadata": {
    "ExecuteTime": {
     "end_time": "2024-02-27T05:31:44.409875Z",
     "start_time": "2024-02-27T05:31:44.264744Z"
    }
   },
   "outputs": [
    {
     "name": "stdout",
     "output_type": "stream",
     "text": [
      "(237, 13)\n",
      "(60, 13)\n",
      "(237,)\n",
      "(60,)\n"
     ]
    }
   ],
   "source": [
    "from sklearn.model_selection import train_test_split\n",
    "\n",
    "# Split the data into training and testing sets\n",
    "x_train, x_test, y_train, y_test = train_test_split(x_scaled, y, train_size=0.8, test_size=0.2, random_state=4)\n",
    "print(x_train.shape)\n",
    "print(x_test.shape)\n",
    "print(y_train.shape)\n",
    "print(y_test.shape)"
   ]
  },
  {
   "cell_type": "markdown",
   "id": "81ceedb8",
   "metadata": {},
   "source": [
    "## Building and Evaluating Logistic Regression Model"
   ]
  },
  {
   "cell_type": "code",
   "execution_count": 36,
   "id": "f44a907d",
   "metadata": {
    "ExecuteTime": {
     "end_time": "2024-02-27T05:31:44.817652Z",
     "start_time": "2024-02-27T05:31:44.433192Z"
    }
   },
   "outputs": [
    {
     "name": "stdout",
     "output_type": "stream",
     "text": [
      "Mean score from cross-validation: 0.834963768115942\n"
     ]
    }
   ],
   "source": [
    "from sklearn.linear_model import LogisticRegression\n",
    "from sklearn.model_selection import cross_val_score\n",
    "\n",
    "# Create a logistic regression model\n",
    "lr_model = LogisticRegression()\n",
    "\n",
    "# Fit the model to the training data\n",
    "lr_model.fit(x_train, y_train)\n",
    "\n",
    "# Perform cross-validation with 10 folds\n",
    "lr_cv_results = cross_val_score(lr_model, x_train, y_train, cv=10)\n",
    "\n",
    "# Calculate the mean score from cross-validation\n",
    "lr_mean_score = lr_cv_results.mean()\n",
    "\n",
    "print(\"Mean score from cross-validation:\", lr_mean_score)"
   ]
  },
  {
   "cell_type": "markdown",
   "id": "c47c1e93",
   "metadata": {},
   "source": [
    "## Building and Evaluating Linear Discriminant Analysis Model"
   ]
  },
  {
   "cell_type": "code",
   "execution_count": 38,
   "id": "81137d11",
   "metadata": {
    "ExecuteTime": {
     "end_time": "2024-02-27T05:33:47.882929Z",
     "start_time": "2024-02-27T05:33:47.711223Z"
    }
   },
   "outputs": [
    {
     "name": "stdout",
     "output_type": "stream",
     "text": [
      "Mean accuracy from cross-validation: 0.835\n"
     ]
    }
   ],
   "source": [
    "from sklearn.discriminant_analysis import LinearDiscriminantAnalysis\n",
    "from sklearn.model_selection import cross_val_score\n",
    "\n",
    "# Create an LDA model\n",
    "ldr_model = LinearDiscriminantAnalysis()\n",
    "\n",
    "# Fit the model to the training data\n",
    "ldr_model.fit(x_train, y_train)\n",
    "\n",
    "# Perform cross-validation with 10 folds\n",
    "ldr_cv_results = cross_val_score(ldr_model, x_train, y_train, cv=10)\n",
    "\n",
    "# Calculate the mean score from cross-validation and round it to four decimal places\n",
    "ldr_mean_score = round(ldr_cv_results.mean(), 4)\n",
    "\n",
    "print(\"Mean accuracy from cross-validation:\", ldr_mean_score)"
   ]
  },
  {
   "cell_type": "markdown",
   "id": "69b0aee7",
   "metadata": {},
   "source": [
    "## Building and Evaluating K-Nearest Neighbors (KNN) Model"
   ]
  },
  {
   "cell_type": "code",
   "execution_count": 40,
   "id": "344026cb",
   "metadata": {
    "ExecuteTime": {
     "end_time": "2024-02-27T05:36:25.659743Z",
     "start_time": "2024-02-27T05:36:25.513383Z"
    }
   },
   "outputs": [
    {
     "name": "stdout",
     "output_type": "stream",
     "text": [
      "Mean accuracy from cross-validation: 0.7973\n",
      "Standard deviation of scores: 0.0854\n"
     ]
    }
   ],
   "source": [
    "from sklearn.neighbors import KNeighborsClassifier\n",
    "from sklearn.model_selection import cross_val_score\n",
    "\n",
    "# Create a KNN model\n",
    "knn_model = KNeighborsClassifier()\n",
    "\n",
    "# Fit the model to the training data\n",
    "knn_model.fit(x_train, y_train)\n",
    "\n",
    "# Perform cross-validation with 10 folds\n",
    "knn_cv_results = cross_val_score(knn_model, x_train, y_train, cv=10)\n",
    "\n",
    "# Calculate the mean score from cross-validation and round it to four decimal places\n",
    "knn_mean_score = round(knn_cv_results.mean(), 4)\n",
    "\n",
    "# Calculate the standard deviation of the scores\n",
    "knn_std_score = round(knn_cv_results.std(), 4)\n",
    "\n",
    "print(\"Mean accuracy from cross-validation:\", knn_mean_score)\n",
    "print(\"Standard deviation of scores:\", knn_std_score)\n"
   ]
  },
  {
   "cell_type": "markdown",
   "id": "f6bb3c21",
   "metadata": {},
   "source": [
    "## Building and Evaluating Decision Tree Classifier Model"
   ]
  },
  {
   "cell_type": "code",
   "execution_count": 41,
   "id": "ae157e1f",
   "metadata": {
    "ExecuteTime": {
     "end_time": "2024-02-27T05:38:46.007585Z",
     "start_time": "2024-02-27T05:38:45.806697Z"
    }
   },
   "outputs": [
    {
     "name": "stdout",
     "output_type": "stream",
     "text": [
      "Mean accuracy from cross-validation: 0.7049\n"
     ]
    }
   ],
   "source": [
    "from sklearn.tree import DecisionTreeClassifier\n",
    "from sklearn.model_selection import cross_val_score\n",
    "\n",
    "# Create a decision tree classifier model\n",
    "dt_model = DecisionTreeClassifier()\n",
    "\n",
    "# Fit the model to the training data\n",
    "dt_model.fit(x_train, y_train)\n",
    "\n",
    "# Perform cross-validation with 10 folds\n",
    "dt_cv_results = cross_val_score(dt_model, x_train, y_train, cv=10)\n",
    "\n",
    "# Calculate the mean score from cross-validation and round it to four decimal places\n",
    "dt_mean_score = round(dt_cv_results.mean(), 4)\n",
    "\n",
    "print(\"Mean accuracy from cross-validation:\", dt_mean_score)"
   ]
  },
  {
   "cell_type": "markdown",
   "id": "1ed42919",
   "metadata": {},
   "source": [
    "## Building and Evaluating Gaussian Naive Bayes Model"
   ]
  },
  {
   "cell_type": "code",
   "execution_count": 42,
   "id": "0c4972ae",
   "metadata": {
    "ExecuteTime": {
     "end_time": "2024-02-27T05:40:16.352778Z",
     "start_time": "2024-02-27T05:40:16.260258Z"
    }
   },
   "outputs": [
    {
     "name": "stdout",
     "output_type": "stream",
     "text": [
      "Mean accuracy from cross-validation: 0.8312\n"
     ]
    }
   ],
   "source": [
    "from sklearn.naive_bayes import GaussianNB\n",
    "from sklearn.model_selection import cross_val_score\n",
    "\n",
    "# Create a Gaussian Naive Bayes model\n",
    "gnb_model = GaussianNB()\n",
    "\n",
    "# Fit the model to the training data\n",
    "gnb_model.fit(x_train, y_train)\n",
    "\n",
    "# Perform cross-validation with 10 folds\n",
    "gnb_cv_results = cross_val_score(gnb_model, x_train, y_train, cv=10)\n",
    "\n",
    "# Calculate the mean score from cross-validation and round it to four decimal places\n",
    "gnb_mean_score = round(gnb_cv_results.mean(), 4)\n",
    "\n",
    "print(\"Mean accuracy from cross-validation:\", gnb_mean_score)"
   ]
  },
  {
   "cell_type": "markdown",
   "id": "3e388c58",
   "metadata": {},
   "source": [
    "## Building and Evaluating Random Forest Classifier Model"
   ]
  },
  {
   "cell_type": "code",
   "execution_count": 43,
   "id": "74c8ff55",
   "metadata": {
    "ExecuteTime": {
     "end_time": "2024-02-27T05:42:37.819386Z",
     "start_time": "2024-02-27T05:42:34.131150Z"
    }
   },
   "outputs": [
    {
     "name": "stdout",
     "output_type": "stream",
     "text": [
      "Mean accuracy from cross-validation: 0.8098\n"
     ]
    }
   ],
   "source": [
    "from sklearn.ensemble import RandomForestClassifier\n",
    "from sklearn.model_selection import cross_val_score\n",
    "\n",
    "# Define the number of trees and maximum number of features\n",
    "num_trees = 100\n",
    "max_features = 'sqrt'\n",
    "\n",
    "# Create a Random Forest classifier model\n",
    "rf_model = RandomForestClassifier(n_estimators=num_trees, max_features=max_features)\n",
    "\n",
    "# Fit the model to the training data\n",
    "rf_model.fit(x_train, y_train)\n",
    "\n",
    "# Perform cross-validation with 10 folds\n",
    "rf_cv_results = cross_val_score(rf_model, x_train, y_train, cv=10)\n",
    "\n",
    "# Calculate the mean score from cross-validation and round it to four decimal places\n",
    "rf_mean_score = round(rf_cv_results.mean(), 4)\n",
    "\n",
    "print(\"Mean accuracy from cross-validation:\", rf_mean_score)"
   ]
  },
  {
   "cell_type": "markdown",
   "id": "b6c96ccc",
   "metadata": {},
   "source": [
    "## Building and Evaluating Support Vector Classifier (SVC) Model"
   ]
  },
  {
   "cell_type": "code",
   "execution_count": 44,
   "id": "15dea66c",
   "metadata": {
    "ExecuteTime": {
     "end_time": "2024-02-27T05:44:22.700513Z",
     "start_time": "2024-02-27T05:44:22.487519Z"
    }
   },
   "outputs": [
    {
     "name": "stdout",
     "output_type": "stream",
     "text": [
      "Mean accuracy from cross-validation: 0.8226\n"
     ]
    }
   ],
   "source": [
    "from sklearn.svm import SVC\n",
    "from sklearn.model_selection import cross_val_score\n",
    "\n",
    "# Create an SVM classifier model\n",
    "sv_model = SVC()\n",
    "\n",
    "# Fit the model to the training data\n",
    "sv_model.fit(x_train, y_train)\n",
    "\n",
    "# Perform cross-validation with 10 folds\n",
    "sv_cv_results = cross_val_score(sv_model, x_train, y_train, cv=10)\n",
    "\n",
    "# Calculate the mean score from cross-validation and round it to four decimal places\n",
    "sv_mean_score = round(sv_cv_results.mean(), 4)\n",
    "\n",
    "print(\"Mean accuracy from cross-validation:\", sv_mean_score)"
   ]
  },
  {
   "cell_type": "markdown",
   "id": "a5970480",
   "metadata": {},
   "source": [
    "## Evaluating Model Performance"
   ]
  },
  {
   "cell_type": "code",
   "execution_count": 45,
   "id": "689a09d6",
   "metadata": {
    "ExecuteTime": {
     "end_time": "2024-02-27T05:46:31.442822Z",
     "start_time": "2024-02-27T05:46:31.371049Z"
    }
   },
   "outputs": [
    {
     "name": "stdout",
     "output_type": "stream",
     "text": [
      "Accuracy: 0.7833333333333333\n",
      "\n",
      "Confusion Matrix:\n",
      " [[27  6]\n",
      " [ 7 20]]\n",
      "\n",
      "Classification Report:\n",
      "               precision    recall  f1-score   support\n",
      "\n",
      "           0       0.79      0.82      0.81        33\n",
      "           1       0.77      0.74      0.75        27\n",
      "\n",
      "    accuracy                           0.78        60\n",
      "   macro avg       0.78      0.78      0.78        60\n",
      "weighted avg       0.78      0.78      0.78        60\n",
      "\n"
     ]
    }
   ],
   "source": [
    "from sklearn.metrics import accuracy_score, confusion_matrix, classification_report\n",
    "\n",
    "# Assuming you have selected the Random Forest Classifier model as the best model\n",
    "# Use the best model to predict on the test data\n",
    "y_pred = rf_model.predict(x_test)\n",
    "\n",
    "# Calculate the accuracy score\n",
    "accuracy = accuracy_score(y_test, y_pred)\n",
    "\n",
    "# Generate the confusion matrix\n",
    "cm = confusion_matrix(y_test, y_pred)\n",
    "\n",
    "# Create the classification report\n",
    "cr = classification_report(y_test, y_pred)\n",
    "\n",
    "# Print the accuracy score, confusion matrix, and classification report\n",
    "print(\"Accuracy:\", accuracy)\n",
    "print(\"\\nConfusion Matrix:\\n\", cm)\n",
    "print(\"\\nClassification Report:\\n\", cr)"
   ]
  },
  {
   "cell_type": "markdown",
   "id": "7e9d63a0",
   "metadata": {},
   "source": [
    "## Making Preictions with Gaussian Naive Bayes Model"
   ]
  },
  {
   "cell_type": "code",
   "execution_count": 52,
   "id": "570b4ce4",
   "metadata": {
    "ExecuteTime": {
     "end_time": "2024-02-27T05:52:15.128705Z",
     "start_time": "2024-02-27T05:52:15.068820Z"
    }
   },
   "outputs": [
    {
     "data": {
      "text/plain": [
       "array([0, 0, 0, 0, 0, 0, 0, 0, 0, 0, 0, 0, 0, 0, 0, 1, 0, 0, 0, 0, 1, 0,\n",
       "       1, 0, 0, 0, 0, 1, 0, 0, 0, 0, 0, 0, 0, 0, 0, 0, 0, 0, 0, 0, 0, 0,\n",
       "       0, 0, 0, 0, 1, 0, 0, 0, 0, 0, 0, 0, 0, 1, 0, 0, 1, 0, 0, 0, 1, 0,\n",
       "       0, 0, 1, 1, 1, 1, 0, 0, 0, 0, 0, 0, 0, 0, 0, 0, 0, 0, 0, 0, 0, 0,\n",
       "       0, 0, 0, 0, 0, 1, 0, 0, 0, 0, 0, 0, 0, 0, 0, 0, 1, 1, 0, 0, 0, 0,\n",
       "       0, 0, 0, 1, 0, 0, 1, 1, 0, 0, 0, 0, 0, 0, 0, 0, 0, 1, 0, 1, 0, 0,\n",
       "       0, 0, 0, 1, 0, 1, 0, 0, 0, 0, 0, 0, 0, 0, 1, 0, 0, 0, 0, 0, 1, 0,\n",
       "       0, 0, 0, 0, 0, 0, 0, 0, 0, 0, 0, 0, 0, 0, 0, 0, 0, 0, 0, 0, 0, 0,\n",
       "       0, 0, 0, 0, 0, 0, 0, 0, 0, 0, 1, 0, 0, 0, 0, 0, 0, 0, 1, 0, 0, 1,\n",
       "       0, 0, 0, 0, 0, 0, 0, 0, 0, 0, 0, 0, 0, 1, 0, 0, 0, 0, 0, 0, 0, 0,\n",
       "       0, 0, 0, 0, 0, 0, 0, 0, 0, 0, 1, 0, 0, 0, 0, 0, 0, 0, 0, 0, 0, 0,\n",
       "       0, 0, 0, 0, 0, 0, 0, 0, 0, 0, 0, 0, 0, 0, 0, 0, 0, 0, 0, 0, 0, 0,\n",
       "       0, 0, 0, 0, 0, 0, 0, 0, 0, 0, 0, 0, 0, 0, 0, 1, 0, 1, 0, 0, 0, 0,\n",
       "       0, 0, 0, 0, 1, 0, 1, 0, 0, 1, 0], dtype=int64)"
      ]
     },
     "execution_count": 52,
     "metadata": {},
     "output_type": "execute_result"
    }
   ],
   "source": [
    "# Use the selected model to make predictions for the sample data\n",
    "prediction = gnb_model.predict(x)\n",
    "prediction"
   ]
  },
  {
   "cell_type": "code",
   "execution_count": null,
   "id": "5c99fa2f",
   "metadata": {},
   "outputs": [],
   "source": []
  }
 ],
 "metadata": {
  "gist": {
   "data": {
    "description": "Documents/Real Time Projects/Disease Prediction using Machine Learning/Disease Prediction using Machine Learning.ipynb",
    "public": true
   },
   "id": ""
  },
  "kernelspec": {
   "display_name": "Python 3",
   "language": "python",
   "name": "python3"
  },
  "language_info": {
   "codemirror_mode": {
    "name": "ipython",
    "version": 3
   },
   "file_extension": ".py",
   "mimetype": "text/x-python",
   "name": "python",
   "nbconvert_exporter": "python",
   "pygments_lexer": "ipython3",
   "version": "3.8.8"
  }
 },
 "nbformat": 4,
 "nbformat_minor": 5
}
